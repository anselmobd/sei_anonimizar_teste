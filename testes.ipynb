{
 "cells": [
  {
   "cell_type": "code",
   "execution_count": null,
   "id": "419debbb",
   "metadata": {},
   "outputs": [],
   "source": [
    "import os\n",
    "\n",
    "import pandas as pd"
   ]
  },
  {
   "cell_type": "code",
   "execution_count": null,
   "id": "58ed34d8",
   "metadata": {},
   "outputs": [],
   "source": [
    "df = pd.read_csv(\"./csv/G1AFLA_010_C2502211845_F21068F_P2502211854.BCK.gz_20250416_002302.387400.csv\", sep=';')\n",
    "df.head()"
   ]
  },
  {
   "cell_type": "code",
   "execution_count": null,
   "id": "9daa68ff",
   "metadata": {},
   "outputs": [],
   "source": [
    "df.to_parquet(\"./parquet/G1AFLA_010_C2502211845_F21068F_P2502211854.BCK.parquet\")\n",
    "df.to_parquet(\"./parquet/G1AFLA_010_C2502211845_F21068F_P2502211854.BCK.parquet.brotli\", compression='BROTLI')"
   ]
  },
  {
   "cell_type": "code",
   "execution_count": null,
   "id": "7a105d52",
   "metadata": {},
   "outputs": [],
   "source": [
    "csv_size = os.path.getsize(\"./csv/G1AFLA_010_C2502211845_F21068F_P2502211854.BCK.gz_20250416_002302.387400.csv\")\n",
    "parquet_size = os.path.getsize(\"./parquet/G1AFLA_010_C2502211845_F21068F_P2502211854.BCK.parquet\")\n",
    "brotli_size = os.path.getsize(\"./parquet/G1AFLA_010_C2502211845_F21068F_P2502211854.BCK.parquet.brotli\")\n",
    "print(f\"{csv_size=}\")\n",
    "print(f\"{parquet_size=}\")\n",
    "print(f\"{brotli_size=}\")"
   ]
  },
  {
   "cell_type": "code",
   "execution_count": null,
   "id": "88aa953b",
   "metadata": {},
   "outputs": [],
   "source": [
    "parquet = pd.read_parquet(\"./parquet/G1AFLA_010_C2502211845_F21068F_P2502211854.BCK.parquet.brotli\")\n",
    "parquet.info()"
   ]
  },
  {
   "cell_type": "code",
   "execution_count": null,
   "id": "514e7263",
   "metadata": {},
   "outputs": [],
   "source": [
    "%time\n",
    "df_textos = pd.read_csv(\"/mnt/c/Users/anselmo.dominguez/Documents/SFI/textos_publicados_bse_sei_anatel_limpo.csv\", sep=\"|\", quotechar=\"`\")  # , nrows=100)"
   ]
  },
  {
   "cell_type": "code",
   "execution_count": null,
   "id": "638db2cf",
   "metadata": {},
   "outputs": [],
   "source": [
    "df_textos.to_parquet(\"/mnt/c/Users/anselmo.dominguez/Documents/SFI/textos_publicados_bse_sei_anatel_limpo.parquet\", compression=\"BROTLI\")"
   ]
  },
  {
   "cell_type": "code",
   "execution_count": null,
   "id": "7846e87d",
   "metadata": {},
   "outputs": [],
   "source": [
    "%time\n",
    "df_textos = pd.read_parquet(\"/mnt/c/Users/anselmo.dominguez/Documents/SFI/textos_publicados_bse_sei_anatel_limpo.parquet\")"
   ]
  },
  {
   "cell_type": "code",
   "execution_count": null,
   "id": "4207492f",
   "metadata": {},
   "outputs": [],
   "source": [
    "df_textos.head()"
   ]
  },
  {
   "cell_type": "code",
   "execution_count": null,
   "id": "7742d4eb",
   "metadata": {},
   "outputs": [],
   "source": [
    "texto = df_textos.loc[0, \"TEXTO\"]\n",
    "len(texto)"
   ]
  },
  {
   "cell_type": "code",
   "execution_count": null,
   "id": "ee50d2f1",
   "metadata": {},
   "outputs": [],
   "source": [
    "print(texto)"
   ]
  }
 ],
 "metadata": {
  "kernelspec": {
   "display_name": ".venv",
   "language": "python",
   "name": "python3"
  },
  "language_info": {
   "codemirror_mode": {
    "name": "ipython",
    "version": 3
   },
   "file_extension": ".py",
   "mimetype": "text/x-python",
   "name": "python",
   "nbconvert_exporter": "python",
   "pygments_lexer": "ipython3",
   "version": "3.12.9"
  }
 },
 "nbformat": 4,
 "nbformat_minor": 5
}
